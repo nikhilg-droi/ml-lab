{
 "cells": [
  {
   "cell_type": "code",
   "execution_count": 5,
   "metadata": {},
   "outputs": [
    {
     "name": "stdout",
     "output_type": "stream",
     "text": [
      "1.9166296949998198\n"
     ]
    }
   ],
   "source": [
    "m=[4,5,6,7,8,5,10]\n",
    "def stdev(m):\n",
    "    m1=sum(m)/len(m)\n",
    "    var=sum([((x-m1) ** 2) for x in m]) /len(m)\n",
    "    res=(var)**0.5\n",
    "    \n",
    "    return res\n",
    "print(stdev(m))"
   ]
  },
  {
   "cell_type": "code",
   "execution_count": 8,
   "metadata": {},
   "outputs": [],
   "source": [
    "def std_nor(m):\n",
    "    mnum=max(m)\n",
    "    minum=min(m)\n",
    "    normal=[]\n",
    "    for a in m:\n",
    "        norm = (a- minum)/(mnum- minum)\n",
    "        normal.append(norm)\n",
    "        \n",
    "    return normal"
   ]
  },
  {
   "cell_type": "code",
   "execution_count": 9,
   "metadata": {},
   "outputs": [
    {
     "name": "stdout",
     "output_type": "stream",
     "text": [
      "[0.0, 0.16666666666666666, 0.3333333333333333, 0.5, 0.6666666666666666, 0.16666666666666666, 1.0]\n"
     ]
    }
   ],
   "source": [
    "print(std_nor(m))"
   ]
  },
  {
   "cell_type": "code",
   "execution_count": 10,
   "metadata": {},
   "outputs": [
    {
     "name": "stdout",
     "output_type": "stream",
     "text": [
      "[-1.2671051872498809, -0.74535599249993, -0.2236067977499791, 0.2981423969999718, 0.8198915917499228, -0.74535599249993, 1.8633899812498245]\n"
     ]
    }
   ],
   "source": [
    "def stdn(m):\n",
    "    m1=sum(m)/len(m)\n",
    "    sd=stdev(m)\n",
    "    std=[]\n",
    "    \n",
    "    for i in m:\n",
    "        a=(i-m1)/sd\n",
    "        std.append(a)\n",
    "        \n",
    "        \n",
    "    return std\n",
    "print(stdn(m))"
   ]
  },
  {
   "cell_type": "code",
   "execution_count": null,
   "metadata": {},
   "outputs": [],
   "source": []
  }
 ],
 "metadata": {
  "kernelspec": {
   "display_name": "Python 3",
   "language": "python",
   "name": "python3"
  },
  "language_info": {
   "codemirror_mode": {
    "name": "ipython",
    "version": 3
   },
   "file_extension": ".py",
   "mimetype": "text/x-python",
   "name": "python",
   "nbconvert_exporter": "python",
   "pygments_lexer": "ipython3",
   "version": "3.8.5"
  }
 },
 "nbformat": 4,
 "nbformat_minor": 4
}
