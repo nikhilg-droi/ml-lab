{
 "cells": [
  {
   "cell_type": "code",
   "execution_count": 4,
   "metadata": {},
   "outputs": [
    {
     "name": "stdout",
     "output_type": "stream",
     "text": [
      "mean3.0\n"
     ]
    }
   ],
   "source": [
    "number = [1, 2, 3, 4, 5]\n",
    "n = len(number)\n",
    "  \n",
    "get_sum = sum(number)\n",
    "mean = get_sum / n\n",
    "  \n",
    "print(\"mean\" + str(mean))"
   ]
  },
  {
   "cell_type": "code",
   "execution_count": 7,
   "metadata": {},
   "outputs": [
    {
     "name": "stdout",
     "output_type": "stream",
     "text": [
      "Median3\n"
     ]
    }
   ],
   "source": [
    "number = [1, 2, 3, 4, 5]\n",
    "n = len(number)\n",
    "number.sort()\n",
    "  \n",
    "if n % 2 == 0:\n",
    "    med1 = number[n//2]\n",
    "    med2 = number[n//2 - 1]\n",
    "    med = (med1 + med2)/2\n",
    "else:\n",
    "    med = number[n//2]\n",
    "print(\"Median\" + str(med))"
   ]
  },
  {
   "cell_type": "code",
   "execution_count": 11,
   "metadata": {},
   "outputs": [
    {
     "name": "stdout",
     "output_type": "stream",
     "text": [
      "Mode{8, 6}\n"
     ]
    }
   ],
   "source": [
    "x= [11, 8, 8, 3, 4, 4, 5, 6, 6, 6, 7, 8]\n",
    "x.sort() \n",
    "L1=[]\n",
    "i = 0\n",
    "while i < len(y) :\n",
    "    L1.append(x.count(x[i]))\n",
    "    i += 1\n",
    "\n",
    "d1 = dict(zip(x, L1))\n",
    "\n",
    "  \n",
    "d2={k for (k,v) in d1.items() if v == max(L1) }\n",
    "  \n",
    "print(\"Mode\" + str(d2))"
   ]
  },
  {
   "cell_type": "code",
   "execution_count": null,
   "metadata": {},
   "outputs": [],
   "source": []
  }
 ],
 "metadata": {
  "kernelspec": {
   "display_name": "Python 3",
   "language": "python",
   "name": "python3"
  },
  "language_info": {
   "codemirror_mode": {
    "name": "ipython",
    "version": 3
   },
   "file_extension": ".py",
   "mimetype": "text/x-python",
   "name": "python",
   "nbconvert_exporter": "python",
   "pygments_lexer": "ipython3",
   "version": "3.8.5"
  }
 },
 "nbformat": 4,
 "nbformat_minor": 4
}
